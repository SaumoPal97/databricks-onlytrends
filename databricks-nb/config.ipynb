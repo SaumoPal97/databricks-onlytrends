{
 "cells": [
  {
   "cell_type": "code",
   "execution_count": 0,
   "metadata": {
    "application/vnd.databricks.v1+cell": {
     "cellMetadata": {},
     "inputWidgets": {},
     "nuid": "35159c36-0e31-45f2-ac37-d0f13da53ed9",
     "showTitle": false,
     "title": ""
    }
   },
   "outputs": [],
   "source": [
    "VECTOR_SEARCH_ENDPOINT_NAME=\"onlytrends_vs_endpoint\"\n",
    "catalog = \"onlytrends\"\n",
    "dbName = db = \"onlytrends_db\""
   ]
  },
  {
   "cell_type": "code",
   "execution_count": 0,
   "metadata": {
    "application/vnd.databricks.v1+cell": {
     "cellMetadata": {},
     "inputWidgets": {},
     "nuid": "558a3ff9-68ca-48c1-852d-7750cceee1bd",
     "showTitle": false,
     "title": ""
    }
   },
   "outputs": [],
   "source": [
    "age = dbutils.widgets.get(\"age\")\n",
    "name = dbutils.widgets.get(\"name\")\n",
    "\n",
    "print(\"hello\", age, name)"
   ]
  }
 ],
 "metadata": {
  "application/vnd.databricks.v1+notebook": {
   "dashboards": [],
   "language": "python",
   "notebookMetadata": {
    "pythonIndentUnit": 4
   },
   "notebookName": "config",
   "widgets": {}
  }
 },
 "nbformat": 4,
 "nbformat_minor": 0
}
