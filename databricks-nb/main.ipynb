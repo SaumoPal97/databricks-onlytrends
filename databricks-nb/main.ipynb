{
 "cells": [
  {
   "cell_type": "code",
   "execution_count": 0,
   "metadata": {
    "application/vnd.databricks.v1+cell": {
     "cellMetadata": {
      "byteLimit": 2048000,
      "rowLimit": 10000
     },
     "inputWidgets": {},
     "nuid": "a9d9a761-a71e-4254-8c62-6ae7800f2852",
     "showTitle": false,
     "title": ""
    }
   },
   "outputs": [],
   "source": [
    "\n",
    "%pip install transformers==4.30.2 \"unstructured[pdf,docx]==0.10.30\" langchain==0.1.5 llama-index==0.9.3 databricks-vectorsearch==0.22 pydantic==1.10.9 mlflow==2.10.1\n",
    "dbutils.library.restartPython()"
   ]
  },
  {
   "cell_type": "code",
   "execution_count": 0,
   "metadata": {
    "application/vnd.databricks.v1+cell": {
     "cellMetadata": {
      "byteLimit": 2048000,
      "rowLimit": 10000
     },
     "inputWidgets": {},
     "nuid": "cb104c84-f0ab-4a4b-8a21-3d6743b0e962",
     "showTitle": false,
     "title": ""
    }
   },
   "outputs": [
    {
     "output_type": "stream",
     "name": "stdout",
     "output_type": "stream",
     "text": [
      "USE CATALOG `onlytrends`\nusing catalog.database `onlytrends`.`onlytrends_db`\n"
     ]
    },
    {
     "output_type": "execute_result",
     "data": {
      "text/plain": [
       "DataFrame[]"
      ]
     },
     "execution_count": 5,
     "metadata": {},
     "output_type": "execute_result"
    }
   ],
   "source": [
    "%run ./init $reset_all_data=false"
   ]
  },
  {
   "cell_type": "code",
   "execution_count": 0,
   "metadata": {
    "application/vnd.databricks.v1+cell": {
     "cellMetadata": {
      "byteLimit": 2048000,
      "implicitDf": true,
      "rowLimit": 10000
     },
     "inputWidgets": {},
     "nuid": "ebb79fe3-640a-4fac-8350-09f4677dc260",
     "showTitle": false,
     "title": ""
    }
   },
   "outputs": [
    {
     "output_type": "display_data",
     "data": {
      "text/html": [
       "<style scoped>\n",
       "  .table-result-container {\n",
       "    max-height: 300px;\n",
       "    overflow: auto;\n",
       "  }\n",
       "  table, th, td {\n",
       "    border: 1px solid black;\n",
       "    border-collapse: collapse;\n",
       "  }\n",
       "  th, td {\n",
       "    padding: 5px;\n",
       "  }\n",
       "  th {\n",
       "    text-align: left;\n",
       "  }\n",
       "</style><div class='table-result-container'><table class='table-result'><thead style='background-color: white'><tr></tr></thead><tbody></tbody></table></div>"
      ]
     },
     "metadata": {
      "application/vnd.databricks.v1+output": {
       "addedWidgets": {},
       "aggData": [],
       "aggError": "",
       "aggOverflow": false,
       "aggSchema": [],
       "aggSeriesLimitReached": false,
       "aggType": "",
       "arguments": {},
       "columnCustomDisplayInfos": {},
       "data": [],
       "datasetInfos": [],
       "dbfsResultPath": null,
       "isJsonSchema": true,
       "metadata": {
        "dataframeName": null
       },
       "overflow": false,
       "plotOptions": {
        "customPlotOptions": {},
        "displayType": "table",
        "pivotAggregation": null,
        "pivotColumns": null,
        "xColumns": null,
        "yColumns": null
       },
       "removedWidgets": [],
       "schema": [],
       "type": "table"
      }
     },
     "output_type": "display_data"
    }
   ],
   "source": [
    "%sql\n",
    "CREATE VOLUME IF NOT EXISTS onlytrends.onlytrends_db.volume_reports;"
   ]
  },
  {
   "cell_type": "code",
   "execution_count": 0,
   "metadata": {
    "application/vnd.databricks.v1+cell": {
     "cellMetadata": {
      "byteLimit": 2048000,
      "rowLimit": 10000
     },
     "inputWidgets": {},
     "nuid": "dd091269-3446-4741-86b9-39f273b2cb3f",
     "showTitle": false,
     "title": ""
    }
   },
   "outputs": [
    {
     "output_type": "stream",
     "name": "stdout",
     "output_type": "stream",
     "text": [
      "saving /Volumes/onlytrends/onlytrends_db/volume_reports/DI_Tech-trends-2024.pdf\n"
     ]
    },
    {
     "output_type": "display_data",
     "data": {
      "text/html": [
       "<style scoped>\n",
       "  .table-result-container {\n",
       "    max-height: 300px;\n",
       "    overflow: auto;\n",
       "  }\n",
       "  table, th, td {\n",
       "    border: 1px solid black;\n",
       "    border-collapse: collapse;\n",
       "  }\n",
       "  th, td {\n",
       "    padding: 5px;\n",
       "  }\n",
       "  th {\n",
       "    text-align: left;\n",
       "  }\n",
       "</style><div class='table-result-container'><table class='table-result'><thead style='background-color: white'><tr><th>path</th><th>name</th><th>size</th><th>modificationTime</th></tr></thead><tbody><tr><td>dbfs:/Volumes/onlytrends/onlytrends_db/volume_reports/DI_Tech-trends-2024.pdf</td><td>DI_Tech-trends-2024.pdf</td><td>9043029</td><td>1715016188000</td></tr></tbody></table></div>"
      ]
     },
     "metadata": {
      "application/vnd.databricks.v1+output": {
       "addedWidgets": {},
       "aggData": [],
       "aggError": "",
       "aggOverflow": false,
       "aggSchema": [],
       "aggSeriesLimitReached": false,
       "aggType": "",
       "arguments": {},
       "columnCustomDisplayInfos": {},
       "data": [
        [
         "dbfs:/Volumes/onlytrends/onlytrends_db/volume_reports/DI_Tech-trends-2024.pdf",
         "DI_Tech-trends-2024.pdf",
         9043029,
         1715016188000
        ]
       ],
       "datasetInfos": [],
       "dbfsResultPath": null,
       "isJsonSchema": true,
       "metadata": {},
       "overflow": false,
       "plotOptions": {
        "customPlotOptions": {},
        "displayType": "table",
        "pivotAggregation": null,
        "pivotColumns": null,
        "xColumns": null,
        "yColumns": null
       },
       "removedWidgets": [],
       "schema": [
        {
         "metadata": "{}",
         "name": "path",
         "type": "\"string\""
        },
        {
         "metadata": "{}",
         "name": "name",
         "type": "\"string\""
        },
        {
         "metadata": "{}",
         "name": "size",
         "type": "\"long\""
        },
        {
         "metadata": "{}",
         "name": "modificationTime",
         "type": "\"long\""
        }
       ],
       "type": "table"
      }
     },
     "output_type": "display_data"
    }
   ],
   "source": [
    "volume_folder =  f\"/Volumes/{catalog}/{db}/volume_reports\"\n",
    "url = fileUrl\n",
    "upload_pdf_to_volume(url, volume_folder)\n",
    "display(dbutils.fs.ls(volume_folder))"
   ]
  },
  {
   "cell_type": "code",
   "execution_count": 0,
   "metadata": {
    "application/vnd.databricks.v1+cell": {
     "cellMetadata": {
      "byteLimit": 2048000,
      "rowLimit": 10000
     },
     "inputWidgets": {},
     "nuid": "37278cff-96f2-4fa6-81c8-d15ebb7de5b5",
     "showTitle": false,
     "title": ""
    }
   },
   "outputs": [],
   "source": [
    "df = (spark.readStream\n",
    "        .format('cloudFiles')\n",
    "        .option('cloudFiles.format', 'BINARYFILE')\n",
    "        .option(\"pathGlobFilter\", \"*.pdf\")\n",
    "        .load('dbfs:'+volume_folder))\n",
    "\n",
    "# Write the data as a Delta table\n",
    "(df.writeStream\n",
    "  .trigger(availableNow=True)\n",
    "  .option(\"checkpointLocation\", f'dbfs:{volume_folder}/checkpoints/raw_docs')\n",
    "  .table('pdf_raw').awaitTermination())"
   ]
  },
  {
   "cell_type": "code",
   "execution_count": 0,
   "metadata": {
    "application/vnd.databricks.v1+cell": {
     "cellMetadata": {
      "byteLimit": 2048000,
      "implicitDf": true,
      "rowLimit": 10000
     },
     "inputWidgets": {},
     "nuid": "af4642bc-9393-4878-bd63-d639e4ed880b",
     "showTitle": false,
     "title": ""
    }
   },
   "outputs": [
    {
     "output_type": "display_data",
     "data": {
      "text/html": [
       "<style scoped>\n",
       "  .table-result-container {\n",
       "    max-height: 300px;\n",
       "    overflow: auto;\n",
       "  }\n",
       "  table, th, td {\n",
       "    border: 1px solid black;\n",
       "    border-collapse: collapse;\n",
       "  }\n",
       "  th, td {\n",
       "    padding: 5px;\n",
       "  }\n",
       "  th {\n",
       "    text-align: left;\n",
       "  }\n",
       "</style><div class='table-result-container'><table class='table-result'><thead style='background-color: white'><tr><th>path</th><th>modificationTime</th><th>length</th><th>content</th></tr></thead><tbody><tr><td>dbfs:/Volumes/onlytrends/onlytrends_db/volume_reports/DI_Tech-trends-2024.pdf</td><td>2024-05-06T17:23:08Z</td><td>9043029</td><td>JVBERi0xLjcNJeLjz9MNCjQ3OTkgMCBvYmoNPDwvTGluZWFyaXplZCAxL0wgOTA0MzAyOS9PIDQ4MDIvRSAxMTk1OTQyL04gNjQvVCA5MDQwNDY5L0ggWyA1MjkgMTQ4MV0+Pg1lbmRvYmoNICAgICAgIA00ODIxIDAgb2JqDTw= (truncated)</td></tr></tbody></table></div>"
      ]
     },
     "metadata": {
      "application/vnd.databricks.v1+output": {
       "addedWidgets": {},
       "aggData": [],
       "aggError": "",
       "aggOverflow": false,
       "aggSchema": [],
       "aggSeriesLimitReached": false,
       "aggType": "",
       "arguments": {},
       "columnCustomDisplayInfos": {},
       "data": [
        [
         "dbfs:/Volumes/onlytrends/onlytrends_db/volume_reports/DI_Tech-trends-2024.pdf",
         "2024-05-06T17:23:08Z",
         9043029,
         "JVBERi0xLjcNJeLjz9MNCjQ3OTkgMCBvYmoNPDwvTGluZWFyaXplZCAxL0wgOTA0MzAyOS9PIDQ4MDIvRSAxMTk1OTQyL04gNjQvVCA5MDQwNDY5L0ggWyA1MjkgMTQ4MV0+Pg1lbmRvYmoNICAgICAgIA00ODIxIDAgb2JqDTw= (truncated)"
        ]
       ],
       "datasetInfos": [],
       "dbfsResultPath": null,
       "isJsonSchema": true,
       "metadata": {
        "dataframeName": "_sqldf",
        "executionCount": 14
       },
       "overflow": false,
       "plotOptions": {
        "customPlotOptions": {},
        "displayType": "table",
        "pivotAggregation": null,
        "pivotColumns": null,
        "xColumns": null,
        "yColumns": null
       },
       "removedWidgets": [],
       "schema": [
        {
         "metadata": "{}",
         "name": "path",
         "type": "\"string\""
        },
        {
         "metadata": "{}",
         "name": "modificationTime",
         "type": "\"timestamp\""
        },
        {
         "metadata": "{}",
         "name": "length",
         "type": "\"long\""
        },
        {
         "metadata": "{\"spark.contentAnnotation.mimeType\":\"application/pdf\"}",
         "name": "content",
         "type": "\"binary\""
        }
       ],
       "type": "table"
      }
     },
     "output_type": "display_data"
    }
   ],
   "source": [
    "%sql SELECT * FROM pdf_raw LIMIT 2"
   ]
  },
  {
   "cell_type": "code",
   "execution_count": 0,
   "metadata": {
    "application/vnd.databricks.v1+cell": {
     "cellMetadata": {
      "byteLimit": 2048000,
      "rowLimit": 10000
     },
     "inputWidgets": {},
     "nuid": "22c48a8b-877e-48b8-b7a5-53614526a0ed",
     "showTitle": false,
     "title": ""
    }
   },
   "outputs": [
    {
     "output_type": "stream",
     "name": "stdout",
     "output_type": "stream",
     "text": [
      "OCR libraries installed\n"
     ]
    }
   ],
   "source": [
    "install_ocr_on_nodes()"
   ]
  },
  {
   "cell_type": "code",
   "execution_count": 0,
   "metadata": {
    "application/vnd.databricks.v1+cell": {
     "cellMetadata": {
      "byteLimit": 2048000,
      "rowLimit": 10000
     },
     "inputWidgets": {},
     "nuid": "b2b73594-4958-4552-96d0-d3f40439146a",
     "showTitle": false,
     "title": ""
    }
   },
   "outputs": [],
   "source": [
    "from unstructured.partition.auto import partition\n",
    "import re\n",
    "import io\n",
    "\n",
    "def extract_doc_text(x : bytes) -> str:\n",
    "  # Read files and extract the values with unstructured\n",
    "  sections = partition(file=io.BytesIO(x))\n",
    "  def clean_section(txt):\n",
    "    txt = re.sub(r'\\n', '', txt)\n",
    "    return re.sub(r' ?\\.', '.', txt)\n",
    "  # Default split is by section of document, concatenate them all together because we want to split by sentence instead.\n",
    "  return \"\\n\".join([clean_section(s.text) for s in sections]) "
   ]
  },
  {
   "cell_type": "code",
   "execution_count": 0,
   "metadata": {
    "application/vnd.databricks.v1+cell": {
     "cellMetadata": {
      "byteLimit": 2048000,
      "rowLimit": 10000
     },
     "inputWidgets": {},
     "nuid": "db766db5-910f-4a6f-a757-a02a26dc60fa",
     "showTitle": false,
     "title": ""
    }
   },
   "outputs": [],
   "source": [
    "from llama_index.langchain_helpers.text_splitter import SentenceSplitter\n",
    "from llama_index import Document, set_global_tokenizer\n",
    "from transformers import AutoTokenizer\n",
    "from typing import Iterator\n",
    "from pyspark.sql.functions import pandas_udf\n",
    "import pandas as pd\n",
    "import pyspark.sql.functions as F\n",
    "from pyspark.sql.functions import col, udf, length, pandas_udf\n",
    "import os\n",
    "import mlflow\n",
    "from typing import Iterator\n",
    "from mlflow import MlflowClient\n",
    "\n",
    "\n",
    "# Reduce the arrow batch size as our PDF can be big in memory\n",
    "spark.conf.set(\"spark.sql.execution.arrow.maxRecordsPerBatch\", 10)\n",
    "\n",
    "@pandas_udf(\"array<string>\")\n",
    "def read_as_chunk(batch_iter: Iterator[pd.Series]) -> Iterator[pd.Series]:\n",
    "    #set llama2 as tokenizer to match our model size (will stay below BGE 1024 limit)\n",
    "    set_global_tokenizer(\n",
    "      AutoTokenizer.from_pretrained(\"hf-internal-testing/llama-tokenizer\")\n",
    "    )\n",
    "    #Sentence splitter from llama_index to split on sentences\n",
    "    splitter = SentenceSplitter(chunk_size=500, chunk_overlap=50)\n",
    "    def extract_and_split(b):\n",
    "      txt = extract_doc_text(b)\n",
    "      nodes = splitter.get_nodes_from_documents([Document(text=txt)])\n",
    "      return [n.text for n in nodes]\n",
    "\n",
    "    for x in batch_iter:\n",
    "        yield x.apply(extract_and_split)"
   ]
  },
  {
   "cell_type": "code",
   "execution_count": 0,
   "metadata": {
    "application/vnd.databricks.v1+cell": {
     "cellMetadata": {
      "byteLimit": 2048000,
      "rowLimit": 10000
     },
     "inputWidgets": {},
     "nuid": "dd37241c-11f7-4917-91be-95e618636d80",
     "showTitle": false,
     "title": ""
    }
   },
   "outputs": [],
   "source": [
    "from mlflow.deployments import get_deploy_client\n",
    "\n",
    "# bge-large-en Foundation models are available using the /serving-endpoints/databricks-bge-large-en/invocations api. \n",
    "deploy_client = get_deploy_client(\"databricks\")\n",
    " \n",
    "## NOTE: if you change your embedding model here, make sure you change it in the query step too\n",
    "embeddings = deploy_client.predict(endpoint=\"databricks-bge-large-en\", inputs={\"input\": [\"What is Apache Spark?\"]})\n",
    "pprint(embeddings)"
   ]
  },
  {
   "cell_type": "code",
   "execution_count": 0,
   "metadata": {
    "application/vnd.databricks.v1+cell": {
     "cellMetadata": {
      "byteLimit": 2048000,
      "implicitDf": true,
      "rowLimit": 10000
     },
     "inputWidgets": {},
     "nuid": "6488701c-406d-4dec-8ed9-6dde532b4441",
     "showTitle": false,
     "title": ""
    }
   },
   "outputs": [
    {
     "output_type": "display_data",
     "data": {
      "text/html": [
       "<style scoped>\n",
       "  .table-result-container {\n",
       "    max-height: 300px;\n",
       "    overflow: auto;\n",
       "  }\n",
       "  table, th, td {\n",
       "    border: 1px solid black;\n",
       "    border-collapse: collapse;\n",
       "  }\n",
       "  th, td {\n",
       "    padding: 5px;\n",
       "  }\n",
       "  th {\n",
       "    text-align: left;\n",
       "  }\n",
       "</style><div class='table-result-container'><table class='table-result'><thead style='background-color: white'><tr></tr></thead><tbody></tbody></table></div>"
      ]
     },
     "metadata": {
      "application/vnd.databricks.v1+output": {
       "addedWidgets": {},
       "aggData": [],
       "aggError": "",
       "aggOverflow": false,
       "aggSchema": [],
       "aggSeriesLimitReached": false,
       "aggType": "",
       "arguments": {},
       "columnCustomDisplayInfos": {},
       "data": [],
       "datasetInfos": [],
       "dbfsResultPath": null,
       "isJsonSchema": true,
       "metadata": {
        "dataframeName": null
       },
       "overflow": false,
       "plotOptions": {
        "customPlotOptions": {},
        "displayType": "table",
        "pivotAggregation": null,
        "pivotColumns": null,
        "xColumns": null,
        "yColumns": null
       },
       "removedWidgets": [],
       "schema": [],
       "type": "table"
      }
     },
     "output_type": "display_data"
    }
   ],
   "source": [
    "%sql\n",
    "--Note that we need to enable Change Data Feed on the table to create the index\n",
    "CREATE TABLE IF NOT EXISTS pdf_reports (\n",
    "  id BIGINT GENERATED BY DEFAULT AS IDENTITY,\n",
    "  url STRING,\n",
    "  content STRING,\n",
    "  embedding ARRAY <FLOAT>\n",
    ") TBLPROPERTIES (delta.enableChangeDataFeed = true); "
   ]
  },
  {
   "cell_type": "code",
   "execution_count": 0,
   "metadata": {
    "application/vnd.databricks.v1+cell": {
     "cellMetadata": {
      "byteLimit": 2048000,
      "rowLimit": 10000
     },
     "inputWidgets": {},
     "nuid": "35ee2836-f830-427b-8ac4-bd37984e0c70",
     "showTitle": false,
     "title": ""
    }
   },
   "outputs": [],
   "source": [
    "@pandas_udf(\"array<float>\")\n",
    "def get_embedding(contents: pd.Series) -> pd.Series:\n",
    "    import mlflow.deployments\n",
    "    deploy_client = mlflow.deployments.get_deploy_client(\"databricks\")\n",
    "    def get_embeddings(batch):\n",
    "        #Note: this will fail if an exception is thrown during embedding creation (add try/except if needed) \n",
    "        response = deploy_client.predict(endpoint=\"databricks-bge-large-en\", inputs={\"input\": batch})\n",
    "        return [e['embedding'] for e in response.data]\n",
    "\n",
    "    # Splitting the contents into batches of 150 items each, since the embedding model takes at most 150 inputs per request.\n",
    "    max_batch_size = 150\n",
    "    batches = [contents.iloc[i:i + max_batch_size] for i in range(0, len(contents), max_batch_size)]\n",
    "\n",
    "    # Process each batch and collect the results\n",
    "    all_embeddings = []\n",
    "    for batch in batches:\n",
    "        all_embeddings += get_embeddings(batch.tolist())\n",
    "\n",
    "    return pd.Series(all_embeddings)"
   ]
  },
  {
   "cell_type": "code",
   "execution_count": 0,
   "metadata": {
    "application/vnd.databricks.v1+cell": {
     "cellMetadata": {
      "byteLimit": 2048000,
      "rowLimit": 10000
     },
     "inputWidgets": {},
     "nuid": "b3cde3aa-e854-4b44-8368-22b4d9e0f949",
     "showTitle": false,
     "title": ""
    }
   },
   "outputs": [],
   "source": [
    "(spark.readStream.table('pdf_raw')\n",
    "      .withColumn(\"content\", F.explode(read_as_chunk(\"content\")))\n",
    "      .withColumn(\"embedding\", get_embedding(\"content\"))\n",
    "      .selectExpr('path as url', 'content', 'embedding')\n",
    "  .writeStream\n",
    "    .trigger(availableNow=True)\n",
    "    .option(\"checkpointLocation\", f'dbfs:{volume_folder}/checkpoints/pdf_chunks')\n",
    "    .table('pdf_reports').awaitTermination())"
   ]
  },
  {
   "cell_type": "code",
   "execution_count": 0,
   "metadata": {
    "application/vnd.databricks.v1+cell": {
     "cellMetadata": {
      "byteLimit": 2048000,
      "implicitDf": true,
      "rowLimit": 10000
     },
     "inputWidgets": {},
     "nuid": "e7c43c51-9cdf-42ae-a555-ae703ce5509a",
     "showTitle": false,
     "title": ""
    }
   },
   "outputs": [],
   "source": [
    "%sql\n",
    "SELECT * FROM pdf_reports limit 10"
   ]
  },
  {
   "cell_type": "code",
   "execution_count": 0,
   "metadata": {
    "application/vnd.databricks.v1+cell": {
     "cellMetadata": {
      "byteLimit": 2048000,
      "rowLimit": 10000
     },
     "inputWidgets": {},
     "nuid": "15d56585-ca80-4f99-9720-3f555e5da2f1",
     "showTitle": false,
     "title": ""
    }
   },
   "outputs": [
    {
     "output_type": "stream",
     "name": "stdout",
     "output_type": "stream",
     "text": [
      "[NOTICE] Using a notebook authentication token. Recommended for development only. For improved performance, please use Service Principal based authentication. To disable this message, pass disable_notice=True to VectorSearchClient().\nEndpoint named onlytrends_vs_endpoint is ready.\n"
     ]
    }
   ],
   "source": [
    "from databricks.vector_search.client import VectorSearchClient\n",
    "vsc = VectorSearchClient()\n",
    "\n",
    "if not endpoint_exists(vsc, VECTOR_SEARCH_ENDPOINT_NAME):\n",
    "    vsc.create_endpoint(name=VECTOR_SEARCH_ENDPOINT_NAME, endpoint_type=\"STANDARD\")\n",
    "\n",
    "wait_for_vs_endpoint_to_be_ready(vsc, VECTOR_SEARCH_ENDPOINT_NAME)\n",
    "print(f\"Endpoint named {VECTOR_SEARCH_ENDPOINT_NAME} is ready.\")"
   ]
  },
  {
   "cell_type": "code",
   "execution_count": 0,
   "metadata": {
    "application/vnd.databricks.v1+cell": {
     "cellMetadata": {
      "byteLimit": 2048000,
      "rowLimit": 10000
     },
     "inputWidgets": {},
     "nuid": "d9052125-4a57-443a-99d5-c684d2bd1add",
     "showTitle": false,
     "title": ""
    }
   },
   "outputs": [
    {
     "output_type": "stream",
     "name": "stdout",
     "output_type": "stream",
     "text": [
      "Error processing request 404 Client Error: Not Found for url: https://oregon.cloud.databricks.com/api/2.0/vector-search/endpoints/onlytrends_vs_endpoint/indexes/onlytrends.onlytrends_db.pdf_reports_self_managed_vs_index\nCreating index onlytrends.onlytrends_db.pdf_reports_self_managed_vs_index on endpoint onlytrends_vs_endpoint...\nWaiting for index to be ready, this can take a few min... {'detailed_state': 'PROVISIONING_INDEX', 'message': 'Delta sync Index creation is pending. Check latest status: https://dbc-a2aec960-4659.cloud.databricks.com/explore/data/onlytrends/onlytrends_db/pdf_reports_self_managed_vs_index', 'indexed_row_count': 0, 'ready': False, 'index_url': 'dbc-a2aec960-4659.cloud.databricks.com/api/2.0/vector-search/endpoints/onlytrends_vs_endpoint/indexes/onlytrends.onlytrends_db.pdf_reports_self_managed_vs_index'} - pipeline url:dbc-a2aec960-4659.cloud.databricks.com/api/2.0/vector-search/endpoints/onlytrends_vs_endpoint/indexes/onlytrends.onlytrends_db.pdf_reports_self_managed_vs_index\n"
     ]
    }
   ],
   "source": [
    "from databricks.sdk import WorkspaceClient\n",
    "import databricks.sdk.service.catalog as c\n",
    "\n",
    "#The table we'd like to index\n",
    "source_table_fullname = f\"{catalog}.{db}.pdf_reports\"\n",
    "# Where we want to store our index\n",
    "vs_index_fullname = f\"{catalog}.{db}.pdf_reports_self_managed_vs_index\"\n",
    "\n",
    "if not index_exists(vsc, VECTOR_SEARCH_ENDPOINT_NAME, vs_index_fullname):\n",
    "  print(f\"Creating index {vs_index_fullname} on endpoint {VECTOR_SEARCH_ENDPOINT_NAME}...\")\n",
    "  vsc.create_delta_sync_index(\n",
    "    endpoint_name=VECTOR_SEARCH_ENDPOINT_NAME,\n",
    "    index_name=vs_index_fullname,\n",
    "    source_table_name=source_table_fullname,\n",
    "    pipeline_type=\"TRIGGERED\", #Sync needs to be manually triggered\n",
    "    primary_key=\"id\",\n",
    "    embedding_dimension=1024, #Match your model embedding size (bge)\n",
    "    embedding_vector_column=\"embedding\"\n",
    "  )\n",
    "  #Let's wait for the index to be ready and all our embeddings to be created and indexed\n",
    "  wait_for_index_to_be_ready(vsc, VECTOR_SEARCH_ENDPOINT_NAME, vs_index_fullname)\n",
    "else:\n",
    "  #Trigger a sync to update our vs content with the new data saved in the table\n",
    "  wait_for_index_to_be_ready(vsc, VECTOR_SEARCH_ENDPOINT_NAME, vs_index_fullname)\n",
    "  vsc.get_index(VECTOR_SEARCH_ENDPOINT_NAME, vs_index_fullname).sync()"
   ]
  },
  {
   "cell_type": "code",
   "execution_count": 0,
   "metadata": {
    "application/vnd.databricks.v1+cell": {
     "cellMetadata": {
      "byteLimit": 2048000,
      "rowLimit": 10000
     },
     "inputWidgets": {},
     "nuid": "6f892c94-84cf-4652-98fb-91cc74f4cb8c",
     "showTitle": false,
     "title": ""
    }
   },
   "outputs": [
    {
     "output_type": "stream",
     "name": "stdout",
     "output_type": "stream",
     "text": [
      "[['dbfs:/Volumes/onlytrends/onlytrends_db/volume_reports/DI_Tech-trends-2024.pdf',\n  'Tech Trends 2024\\n'\n  'Deloitte’s 15th annual Tech Trends report helps business and technology leaders separate signal '\n  'from noise and embrace technology’s evolution as a tool to revolutionize business.\\n'\n  'Trend Lines The future is already here, albeit unevenly distributed\\n'\n  'Our technology case studies form a collage of how pioneering leaders and organizations are '\n  'building distinct facets of the future, today, through emerging technology innovation.\\n'\n  'deloitte.com/us/trendlines\\n'\n  'Trending the trends: Last decade of research\\n'\n  'INTERACTION\\n'\n  'INFORMATION\\n'\n  'COMPUTATION\\n'\n  'BUSINESS OF TECHNOLOGY\\n'\n  'CYBER AND TRUST\\n'\n  'Interfaces in new places\\n'\n  'Genie out of the bottle\\n'\n  'Smarter, not harder\\n'\n  '2024\\n'\n  'From DevOps to DevEx\\n'\n  'Defending reality\\n'\n  'Core workout\\n'\n  'Through the glass\\n'\n  'Opening up to AI\\n'\n  'Above the clouds\\n'\n  '2023\\n'\n  'Flexibility, the best ability\\n'\n  'In us we trust\\n'\n  'Connect and extend\\n'\n  'Data- sharing made easy\\n'\n  'Cloud goes vertical\\n'\n  'Blockchain: Ready for business\\n'\n  '2022\\n'\n  'DEI tech: Tools for equity\\n'\n  'The tech stack goes physical\\n'\n  'Cyber AI\\n'\n  'IT, disrupt thyself\\n'\n  'Rebooting the digital workplace\\n'\n  'Bespoke for billions\\n'\n  'Machine data revolution\\n'\n  'MLOps: Industrial- ized AI\\n'\n  '2021\\n'\n  'Strategy,',\n  0.5609794]]\n"
     ]
    }
   ],
   "source": [
    "question = \"What are some upcoming trends?\"\n",
    "\n",
    "response = deploy_client.predict(endpoint=\"databricks-bge-large-en\", inputs={\"input\": [question]})\n",
    "embeddings = [e['embedding'] for e in response.data]\n",
    "\n",
    "results = vsc.get_index(VECTOR_SEARCH_ENDPOINT_NAME, vs_index_fullname).similarity_search(\n",
    "  query_vector=embeddings[0],\n",
    "  columns=[\"url\", \"content\"],\n",
    "  filters= {\"url LIKE\": \"DI_Tech-trends-2024\"},\n",
    "  num_results=1)\n",
    "docs = results.get('result', {}).get('data_array', [])\n",
    "pprint(docs)"
   ]
  },
  {
   "cell_type": "code",
   "execution_count": 0,
   "metadata": {
    "application/vnd.databricks.v1+cell": {
     "cellMetadata": {
      "byteLimit": 2048000,
      "rowLimit": 10000
     },
     "inputWidgets": {},
     "nuid": "f0f359cb-2c3f-4700-a08e-09228f740446",
     "showTitle": false,
     "title": ""
    }
   },
   "outputs": [],
   "source": [
    "%pip install mlflow==2.10.1 lxml==4.9.3 langchain==0.1.5 databricks-vectorsearch==0.22 cloudpickle==2.2.1 databricks-sdk==0.18.0 cloudpickle==2.2.1 pydantic==2.5.2\n",
    "%pip install pip mlflow[databricks]==2.10.1"
   ]
  },
  {
   "cell_type": "code",
   "execution_count": 0,
   "metadata": {
    "application/vnd.databricks.v1+cell": {
     "cellMetadata": {
      "byteLimit": 2048000,
      "rowLimit": 10000
     },
     "inputWidgets": {},
     "nuid": "ade342c6-7114-4500-a0e3-4f187b85a25d",
     "showTitle": false,
     "title": ""
    }
   },
   "outputs": [
    {
     "output_type": "stream",
     "name": "stdout",
     "output_type": "stream",
     "text": [
      "1. Artificial Intelligence (AI) and Machine Learning (ML)\n2. Internet of Things (IoT) and Edge Computing\n3. Cybersecurity and Privacy\n4. Augmented Reality (AR) and Virtual Reality (VR)\n5. 5G and Advanced Connectivity\n"
     ]
    }
   ],
   "source": [
    "from langchain.prompts import PromptTemplate\n",
    "from langchain_community.chat_models import ChatDatabricks\n",
    "from langchain.schema.output_parser import StrOutputParser\n",
    "\n",
    "prompt = PromptTemplate(\n",
    "  input_variables = [\"question\"],\n",
    "  template = \"You are an assistant. Give a short answer to this question: {question}\"\n",
    ")\n",
    "chat_model = ChatDatabricks(endpoint=\"databricks-dbrx-instruct\", max_tokens = 500)\n",
    "\n",
    "chain = (\n",
    "  prompt\n",
    "  | chat_model\n",
    "  | StrOutputParser()\n",
    ")\n",
    "print(chain.invoke({\"question\": \"What are the top 5 technological trends?\"}))"
   ]
  },
  {
   "cell_type": "code",
   "execution_count": 0,
   "metadata": {
    "application/vnd.databricks.v1+cell": {
     "cellMetadata": {
      "byteLimit": 2048000,
      "rowLimit": 10000
     },
     "inputWidgets": {},
     "nuid": "33e7f6b1-4eea-4fcd-bde0-c00cd375f5f7",
     "showTitle": false,
     "title": ""
    }
   },
   "outputs": [],
   "source": [
    "prompt_with_history_str = \"\"\"\n",
    "Your are a OnlyTrends chatbot. Please answer questions related to trends and investment strategies only. If you don't know or not related to OnlyTrends, don't answer.\n",
    "\n",
    "Here is a history between you and a human: {chat_history}\n",
    "\n",
    "Now, please answer this question: {question}\n",
    "\"\"\"\n",
    "\n",
    "prompt_with_history = PromptTemplate(\n",
    "  input_variables = [\"chat_history\", \"question\"],\n",
    "  template = prompt_with_history_str\n",
    ")"
   ]
  },
  {
   "cell_type": "code",
   "execution_count": 0,
   "metadata": {
    "application/vnd.databricks.v1+cell": {
     "cellMetadata": {
      "byteLimit": 2048000,
      "rowLimit": 10000
     },
     "inputWidgets": {},
     "nuid": "db40413c-2bff-4a16-badd-1f3f8c480c71",
     "showTitle": false,
     "title": ""
    }
   },
   "outputs": [
    {
     "output_type": "stream",
     "name": "stdout",
     "output_type": "stream",
     "text": [
      "Yes.\n"
     ]
    }
   ],
   "source": [
    "from langchain.schema.runnable import RunnableLambda\n",
    "from operator import itemgetter\n",
    "\n",
    "#The question is the last entry of the history\n",
    "def extract_question(input):\n",
    "    return input[-1][\"content\"]\n",
    "\n",
    "#The history is everything before the last question\n",
    "def extract_history(input):\n",
    "    return input[:-1]\n",
    "\n",
    "chat_model = ChatDatabricks(endpoint=\"databricks-dbrx-instruct\", max_tokens = 200)\n",
    "\n",
    "is_question_about_databricks_str = \"\"\"\n",
    "You are classifying documents to know if this question is related to future trends in technology, finance, banking, ecommerce, investment strategies, crypto and AI. Also answer no if the last part is inappropriate. \n",
    "\n",
    "Here are some examples:\n",
    "\n",
    "Question: Knowing this followup history: What are some future trends?, classify this question: Do you have more details?\n",
    "Expected Response: Yes\n",
    "\n",
    "Question: Knowing this followup history:What are some future trends?, classify this question: Write me a song.\n",
    "Expected Response: No\n",
    "\n",
    "Only answer with \"yes\" or \"no\". \n",
    "\n",
    "Knowing this followup history: {chat_history}, classify this question: {question}\n",
    "\"\"\"\n",
    "\n",
    "is_question_about_databricks_prompt = PromptTemplate(\n",
    "  input_variables= [\"chat_history\", \"question\"],\n",
    "  template = is_question_about_databricks_str\n",
    ")\n",
    "\n",
    "is_about_databricks_chain = (\n",
    "    {\n",
    "        \"question\": itemgetter(\"messages\") | RunnableLambda(extract_question),\n",
    "        \"chat_history\": itemgetter(\"messages\") | RunnableLambda(extract_history),\n",
    "    }\n",
    "    | is_question_about_databricks_prompt\n",
    "    | chat_model\n",
    "    | StrOutputParser()\n",
    ")\n",
    "\n",
    "#Returns \"Yes\" as this is about Databricks: \n",
    "print(is_about_databricks_chain.invoke({\n",
    "    \"messages\": [\n",
    "        {\"role\": \"user\", \"content\": \"What are some future trends?\"}, \n",
    "        {\"role\": \"assistant\", \"content\": \" Artificial Intelligence (AI) and Machine Learning (ML)\"}, \n",
    "        {\"role\": \"user\", \"content\": \"Tell me more about it\"}\n",
    "    ]\n",
    "}))"
   ]
  },
  {
   "cell_type": "code",
   "execution_count": 0,
   "metadata": {
    "application/vnd.databricks.v1+cell": {
     "cellMetadata": {
      "byteLimit": 2048000,
      "rowLimit": 10000
     },
     "inputWidgets": {},
     "nuid": "db7bcde7-fc3d-466d-b05b-3f2f602b8aa1",
     "showTitle": false,
     "title": ""
    }
   },
   "outputs": [
    {
     "output_type": "stream",
     "name": "stdout",
     "output_type": "stream",
     "text": [
      "https://dbc-a2aec960-4659.cloud.databricks.com\nSecret and permissions seems to be properly setup, you can continue the demo!\n"
     ]
    }
   ],
   "source": [
    "index_name=f\"{catalog}.{db}.pdf_reports_self_managed_vs_index\"\n",
    "host = \"https://\" + spark.conf.get(\"spark.databricks.workspaceUrl\")\n",
    "print(host)\n",
    "\n",
    "#Let's make sure the secret is properly setup and can access our vector search index. Check the quick-start demo for more guidance\n",
    "test_demo_permissions(host, secret_scope=\"dbdemos\", secret_key=\"rag_sp_token\", vs_endpoint_name=VECTOR_SEARCH_ENDPOINT_NAME, index_name=index_name, embedding_endpoint_name=\"databricks-bge-large-en\", managed_embeddings = False)"
   ]
  },
  {
   "cell_type": "code",
   "execution_count": 0,
   "metadata": {
    "application/vnd.databricks.v1+cell": {
     "cellMetadata": {
      "byteLimit": 2048000,
      "rowLimit": 10000
     },
     "inputWidgets": {},
     "nuid": "b2a97298-c423-4d52-ab66-bf74b38af148",
     "showTitle": false,
     "title": ""
    }
   },
   "outputs": [
    {
     "output_type": "stream",
     "name": "stdout",
     "output_type": "stream",
     "text": [
      "[NOTICE] Using a Personal Authentication Token (PAT). Recommended for development only. For improved performance, please use Service Principal based authentication. To disable this message, pass disable_notice=True to VectorSearchClient().\n[Document(page_content='Tech Trends 2024\\nDeloitte’s 15th annual Tech Trends report helps business and technology leaders separate signal from noise and embrace technology’s evolution as a tool to revolutionize business.\\nTrend Lines The future is already here, albeit unevenly distributed\\nOur technology case studies form a collage of how pioneering leaders and organizations are building distinct facets of the future, today, through emerging technology innovation.\\ndeloitte.com/us/trendlines\\nTrending the trends: Last decade of research\\nINTERACTION\\nINFORMATION\\nCOMPUTATION\\nBUSINESS OF TECHNOLOGY\\nCYBER AND TRUST\\nInterfaces in new places\\nGenie out of the bottle\\nSmarter, not harder\\n2024\\nFrom DevOps to DevEx\\nDefending reality\\nCore workout\\nThrough the glass\\nOpening up to AI\\nAbove the clouds\\n2023\\nFlexibility, the best ability\\nIn us we trust\\nConnect and extend\\nData- sharing made easy\\nCloud goes vertical\\nBlockchain: Ready for business\\n2022\\nDEI tech: Tools for equity\\nThe tech stack goes physical\\nCyber AI\\nIT, disrupt thyself\\nRebooting the digital workplace\\nBespoke for billions\\nMachine data revolution\\nMLOps: Industrial- ized AI\\n2021\\nStrategy,', metadata={'url': 'dbfs:/Volumes/onlytrends/onlytrends_db/volume_reports/DI_Tech-trends-2024.pdf', 'id': 1.0}), Document(page_content='go to www.deloitte.com/us/TechTrends. Source: Deloitte analysis.\\ndeloitte.com/insights\\niii\\ns t n e t n o c\\n02...\\nTech Trends 24: Executive summary\\nf o e l b a T\\n06...\\nINTRODUCTION Generative AI: Force multiplier for human ambitions\\n10...\\nINTERACTION Interfaces in new places: Spatial computing and the industrial metaverse\\n16...\\nINFORMATION Genie out of the bottle: Generative AI as growth catalyst\\n26...\\nCOMPUTATION Smarter, not harder: Beyond brute force compute\\n34...\\nBUSINESS OF TECHNOLOGY From DevOps to DevEx: Empowering the engineering experience\\n42...\\nCYBER AND TRUST Defending reality: Truth in an age of synthetic media\\n48...\\nCORE MODERNIZATION Core workout: From technical debt to technical wellness\\n55...\\nAcknowledgments\\n1\\n2\\nTech Trends 2024 Executive summary\\nT hree elevating forces (interaction, infor-\\nmation, and computation) and three grounding forces (business of technology, core modernization, and cyber and trust) continue to be the bedrock upon which we build Tech Trends, Deloitte’s annual exploration of the impact of emerging technologies. In Tech Trends 2024, our 15th annual foray, we highlight the stories of pioneering organizations that are ahead of the curve in using new technologies and approaches that stand to become the norm within 18 to 24 months. We also project where the trends could be headed during the coming decade.\\nElevating forces\\nThe history of IT has been defined by pioneering advances in interaction, information, and computation, which together serve as an enduring source of innovation.', metadata={'url': 'dbfs:/Volumes/onlytrends/onlytrends_db/volume_reports/DI_Tech-trends-2024.pdf', 'id': 3.0}), Document(page_content='12. Deloitte, xTech Futures: SpaceTech, 2023. 13. MIT Technology Review Insights and Siemens, The emergent industrial metaverse, March 29, 2023.\\n14. Deloitte, “Connect and extend: NVIDIA’s vision for modernizing legacy applications,” Deloitte Insights, November 9, 2022.\\nreassures patients,” Stanford Medicine News Center, July 11, 2017.\\n20. Deloitte interviews. 21. Deloitte, “Unlimited Reality for operations.” 22. Hyundai Motor Company, “Hyundai Motor and Unity partner to build Meta-Factory accelerating intelligent manufacturing innovation,” press release, January 6, 2022.\\n23. Siemens, “Siemens to invest €1 billion in Germany and create blueprint for industrial metaverse in Nuremberg metropolitan region,” press release, July 13, 2023.\\n24. Deloitte, “Unlimited Reality for operations.” 25. Tech Trends is an independent publication and has not been authorized, sponsored, or otherwise approved by Apple Inc. 26. Deloitte, Tech Trends 2023 Prologue: A brief history of the future, Deloitte Insights, December 6, 2022.\\n27. Deloitte, Tech Trends 2023 epilogue, Deloitte Insights, December 6, 2022.\\n28. Charles McLellan, “What is the state of 6G, and when will it arrive? Here’s what to look out for,” ZDNET, February 17, 2023.\\n29.', metadata={'url': 'dbfs:/Volumes/onlytrends/onlytrends_db/volume_reports/DI_Tech-trends-2024.pdf', 'id': 21.0}), Document(page_content='20. Brenton House, “Leaning into the future: An interview with Sanjay Brahmawar,” Software AG blog, July 6, 2023.\\nAcknowledgments\\nSpecial thanks\\nCaroline Brown for your poise under pressure and infallible leadership. Thank you for adapting to every twist and turn with grace and truly going above and beyond. We appreciate you more than words can say.\\nEd Burns and Abhijith Ravinutala for stepping up in new ways, not only transforming perspectives, research, and client interviews into brilliant prose, but also taking on a greater leadership role to guide our research team and lean in when and where needed. We are beyond lucky to have you on the team and are grateful for all you do to make Tech Trends a reality year after year.\\nAdrian Espinoza and Heidi Morrow for deftly moving the needle on what success looks like for design. Thank you for continuing to ideate, curate, and create (with humans and machines) all the remarkable report imagery, infographics, videos, and more.\\nNatalie Haas for masterfully chartering and keeping us on course to deliver another year of Tech Trends. We appreciate all you did to keep the ship full steam ahead and to corral the crew more productively and efficiently than ever before. You will be missed more than you know.\\nStefanie Heng for your steadfast commitment to excellence. We couldn’t deliver Tech Trends without you advising us on this journey. Your lived experience and commitment to this team is invaluable. Thank you for leaning in and getting us over the finish line. We are so incredibly grateful for you.\\nKelly Raskovich for being the team’s loudest cheerleader and supporter. Thank you for your guidance, partnership, and willingness to lean in on all the things, from the big picture ideas down to the nitty gritty details.', metadata={'url': 'dbfs:/Volumes/onlytrends/onlytrends_db/volume_reports/DI_Tech-trends-2024.pdf', 'id': 79.0})]\n"
     ]
    }
   ],
   "source": [
    "from databricks.vector_search.client import VectorSearchClient\n",
    "from langchain_community.vectorstores import DatabricksVectorSearch\n",
    "from langchain_community.embeddings import DatabricksEmbeddings\n",
    "from langchain.chains import RetrievalQA\n",
    "\n",
    "os.environ['DATABRICKS_TOKEN'] = dbutils.secrets.get(\"dbdemos\", \"rag_sp_token\")\n",
    "\n",
    "embedding_model = DatabricksEmbeddings(endpoint=\"databricks-bge-large-en\")\n",
    "\n",
    "def get_retriever(persist_dir: str = None):\n",
    "    os.environ[\"DATABRICKS_HOST\"] = host\n",
    "    #Get the vector search index\n",
    "    vsc = VectorSearchClient(workspace_url=host, personal_access_token=os.environ[\"DATABRICKS_TOKEN\"])\n",
    "    vs_index = vsc.get_index(\n",
    "        endpoint_name=VECTOR_SEARCH_ENDPOINT_NAME,\n",
    "        index_name=index_name\n",
    "    )\n",
    "\n",
    "    # Create the retriever\n",
    "    vectorstore = DatabricksVectorSearch(\n",
    "        vs_index, text_column=\"content\", embedding=embedding_model, columns=[\"url\"]\n",
    "    )\n",
    "    return vectorstore.as_retriever(search_kwargs={'k': 4, \"filters\": {\"url LIKE\": \"DI_Tech-trends-2024\"},})\n",
    "\n",
    "retriever = get_retriever()\n",
    "\n",
    "retrieve_document_chain = (\n",
    "    itemgetter(\"messages\") \n",
    "    | RunnableLambda(extract_question)\n",
    "    | retriever\n",
    ")\n",
    "print(retrieve_document_chain.invoke({\"messages\": [{\"role\": \"user\", \"content\": \"What are some top trends of 2024?\"}]}))"
   ]
  },
  {
   "cell_type": "code",
   "execution_count": 0,
   "metadata": {
    "application/vnd.databricks.v1+cell": {
     "cellMetadata": {
      "byteLimit": 2048000,
      "rowLimit": 10000
     },
     "inputWidgets": {},
     "nuid": "ff8d59eb-a259-46db-98bf-889de39eb0f7",
     "showTitle": false,
     "title": ""
    }
   },
   "outputs": [
    {
     "output_type": "stream",
     "name": "stdout",
     "output_type": "stream",
     "text": [
      "Test retriever query without history: What are some top trends of 2024\nTest retriever question, summarized with history: 2024 Trends in Artificial Intelligence: Advances, Applications, and Implications\n"
     ]
    }
   ],
   "source": [
    "from langchain.schema.runnable import RunnableBranch\n",
    "\n",
    "generate_query_to_retrieve_context_template = \"\"\"\n",
    "Based on the chat history below, we want you to generate a query for an external data source to retrieve relevant documents so that we can better answer the question. The query should be in natual language. The external data source uses similarity search to search for relevant documents in a vector space. So the query should be similar to the relevant documents semantically. Answer with only the query. Do not add explanation.\n",
    "\n",
    "Chat history: {chat_history}\n",
    "\n",
    "Question: {question}\n",
    "\"\"\"\n",
    "\n",
    "generate_query_to_retrieve_context_prompt = PromptTemplate(\n",
    "  input_variables= [\"chat_history\", \"question\"],\n",
    "  template = generate_query_to_retrieve_context_template\n",
    ")\n",
    "\n",
    "generate_query_to_retrieve_context_chain = (\n",
    "    {\n",
    "        \"question\": itemgetter(\"messages\") | RunnableLambda(extract_question),\n",
    "        \"chat_history\": itemgetter(\"messages\") | RunnableLambda(extract_history),\n",
    "    }\n",
    "    | RunnableBranch(  #Augment query only when there is a chat history\n",
    "      (lambda x: x[\"chat_history\"], generate_query_to_retrieve_context_prompt | chat_model | StrOutputParser()),\n",
    "      (lambda x: not x[\"chat_history\"], RunnableLambda(lambda x: x[\"question\"])),\n",
    "      RunnableLambda(lambda x: x[\"question\"])\n",
    "    )\n",
    ")\n",
    "\n",
    "#Let's try it\n",
    "output = generate_query_to_retrieve_context_chain.invoke({\n",
    "    \"messages\": [\n",
    "        {\"role\": \"user\", \"content\": \"What are some top trends of 2024\"}\n",
    "    ]\n",
    "})\n",
    "print(f\"Test retriever query without history: {output}\")\n",
    "\n",
    "output = generate_query_to_retrieve_context_chain.invoke({\n",
    "    \"messages\": [\n",
    "        {\"role\": \"user\", \"content\": \"What are some top trends of 2024\"}, \n",
    "        {\"role\": \"assistant\", \"content\": \"Artificial Intelligence (AI) and Machine Learning (ML)\"}, \n",
    "        {\"role\": \"user\", \"content\": \"Tell me more about artificial intelligence\"}\n",
    "    ]\n",
    "})\n",
    "print(f\"Test retriever question, summarized with history: {output}\")"
   ]
  },
  {
   "cell_type": "code",
   "execution_count": 0,
   "metadata": {
    "application/vnd.databricks.v1+cell": {
     "cellMetadata": {
      "byteLimit": 2048000,
      "rowLimit": 10000
     },
     "inputWidgets": {},
     "nuid": "8152b572-1f5f-4395-bda5-3b3566a939d5",
     "showTitle": false,
     "title": ""
    }
   },
   "outputs": [],
   "source": [
    "from langchain.schema.runnable import RunnableBranch, RunnableParallel, RunnablePassthrough\n",
    "\n",
    "question_with_history_and_context_str = \"\"\"\n",
    "You are a trustful assistant for OnlyTrends users. You are classifying documents to know if this question is related to future trends in technology, finance, banking, ecommerce, investment strategies, crypto and AI. If you do not know the answer to a question, you truthfully say you do not know. Read the discussion to get the context of the previous conversation. In the chat discussion, you are referred to as \"system\". The user is referred to as \"user\".\n",
    "\n",
    "Discussion: {chat_history}\n",
    "\n",
    "Here's some context which might or might not help you answer: {context}\n",
    "\n",
    "Answer straight, do not repeat the question, do not start with something like: the answer to the question, do not add \"AI\" in front of your answer, do not say: here is the answer, do not mention the context or the question.\n",
    "\n",
    "Based on this history and context, answer this question: {question}\n",
    "\"\"\"\n",
    "\n",
    "question_with_history_and_context_prompt = PromptTemplate(\n",
    "  input_variables= [\"chat_history\", \"context\", \"question\"],\n",
    "  template = question_with_history_and_context_str\n",
    ")\n",
    "\n",
    "def format_context(docs):\n",
    "    return \"\\n\\n\".join([d.page_content for d in docs])\n",
    "\n",
    "def extract_source_urls(docs):\n",
    "    return [d.metadata[\"url\"] for d in docs]\n",
    "\n",
    "relevant_question_chain = (\n",
    "  RunnablePassthrough() |\n",
    "  {\n",
    "    \"relevant_docs\": generate_query_to_retrieve_context_prompt | chat_model | StrOutputParser() | retriever,\n",
    "    \"chat_history\": itemgetter(\"chat_history\"), \n",
    "    \"question\": itemgetter(\"question\")\n",
    "  }\n",
    "  |\n",
    "  {\n",
    "    \"context\": itemgetter(\"relevant_docs\") | RunnableLambda(format_context),\n",
    "    \"sources\": itemgetter(\"relevant_docs\") | RunnableLambda(extract_source_urls),\n",
    "    \"chat_history\": itemgetter(\"chat_history\"), \n",
    "    \"question\": itemgetter(\"question\")\n",
    "  }\n",
    "  |\n",
    "  {\n",
    "    \"prompt\": question_with_history_and_context_prompt,\n",
    "    \"sources\": itemgetter(\"sources\")\n",
    "  }\n",
    "  |\n",
    "  {\n",
    "    \"result\": itemgetter(\"prompt\") | chat_model | StrOutputParser(),\n",
    "    \"sources\": itemgetter(\"sources\")\n",
    "  }\n",
    ")\n",
    "\n",
    "irrelevant_question_chain = (\n",
    "  RunnableLambda(lambda x: {\"result\": 'I cannot answer questions that are not about OnlyTrends.', \"sources\": []})\n",
    ")\n",
    "\n",
    "branch_node = RunnableBranch(\n",
    "  (lambda x: \"yes\" in x[\"question_is_relevant\"].lower(), relevant_question_chain),\n",
    "  (lambda x: \"no\" in x[\"question_is_relevant\"].lower(), irrelevant_question_chain),\n",
    "  irrelevant_question_chain\n",
    ")\n",
    "\n",
    "full_chain = (\n",
    "  {\n",
    "    \"question_is_relevant\": is_about_databricks_chain,\n",
    "    \"question\": itemgetter(\"messages\") | RunnableLambda(extract_question),\n",
    "    \"chat_history\": itemgetter(\"messages\") | RunnableLambda(extract_history),    \n",
    "  }\n",
    "  | branch_node\n",
    ")"
   ]
  },
  {
   "cell_type": "code",
   "execution_count": 0,
   "metadata": {
    "application/vnd.databricks.v1+cell": {
     "cellMetadata": {
      "byteLimit": 2048000,
      "rowLimit": 10000
     },
     "inputWidgets": {},
     "nuid": "d7dd05cc-3f30-43ea-931e-73142979ac77",
     "showTitle": false,
     "title": ""
    }
   },
   "outputs": [
    {
     "output_type": "stream",
     "name": "stdout",
     "output_type": "stream",
     "text": [
      "Testing with a non relevant question...\n"
     ]
    },
    {
     "output_type": "display_data",
     "data": {
      "text/html": [
       "\n",
       "      <div style=\"width: 90%; border-radius: 10px; background-color: #c2efff; padding: 10px; box-shadow: 2px 2px 2px #F7f7f7; margin-bottom: 10px; font-size: 14px;\">\n",
       "        What are some future top trends\n",
       "      </div>\n",
       "      <div style=\"width: 90%; border-radius: 10px; background-color: #e3f6fc; padding: 10px; box-shadow: 2px 2px 2px #F7f7f7; margin-bottom: 10px; margin-left: 40px; font-size: 14px\">\n",
       "        <img style=\"float: left; width:40px; margin: -10px 5px 0px -10px\" src=\"https://github.com/databricks-demos/dbdemos-resources/blob/main/images/product/chatbot-rag/robot.png?raw=true\"/>\n",
       "        AI and machine learning\n",
       "      </div>\n",
       "      <div style=\"width: 90%; border-radius: 10px; background-color: #c2efff; padding: 10px; box-shadow: 2px 2px 2px #F7f7f7; margin-bottom: 10px; font-size: 14px;\">\n",
       "        Why is the sky blue?\n",
       "      </div>\n",
       "      <div style=\"width: 90%; border-radius: 10px; background-color: #e3f6fc; padding: 10px; box-shadow: 2px 2px 2px #F7f7f7; margin-bottom: 10px; margin-left: 40px; font-size: 14px\">\n",
       "        <img style=\"float: left; width:40px; margin: -10px 5px 0px -10px\" src=\"https://github.com/databricks-demos/dbdemos-resources/blob/main/images/product/chatbot-rag/robot.png?raw=true\"/>\n",
       "        I cannot answer questions that are not about OnlyTrends.\n",
       "      </div>"
      ]
     },
     "metadata": {},
     "output_type": "display_data"
    }
   ],
   "source": [
    "import json\n",
    "non_relevant_dialog = {\n",
    "    \"messages\": [\n",
    "        {\"role\": \"user\", \"content\": \"What are some future top trends\"}, \n",
    "        {\"role\": \"assistant\", \"content\": \"AI and machine learning\"}, \n",
    "        {\"role\": \"user\", \"content\": \"Why is the sky blue?\"}\n",
    "    ]\n",
    "}\n",
    "print(f'Testing with a non relevant question...')\n",
    "response = full_chain.invoke(non_relevant_dialog)\n",
    "display_chat(non_relevant_dialog[\"messages\"], response)"
   ]
  },
  {
   "cell_type": "code",
   "execution_count": 0,
   "metadata": {
    "application/vnd.databricks.v1+cell": {
     "cellMetadata": {
      "byteLimit": 2048000,
      "rowLimit": 10000
     },
     "inputWidgets": {},
     "nuid": "94ef0b91-7de9-433a-82cf-7133428710ee",
     "showTitle": false,
     "title": ""
    }
   },
   "outputs": [
    {
     "output_type": "stream",
     "name": "stdout",
     "output_type": "stream",
     "text": [
      "Testing with relevant history and question...\n"
     ]
    },
    {
     "output_type": "display_data",
     "data": {
      "text/html": [
       "\n",
       "      <div style=\"width: 90%; border-radius: 10px; background-color: #c2efff; padding: 10px; box-shadow: 2px 2px 2px #F7f7f7; margin-bottom: 10px; font-size: 14px;\">\n",
       "        What are some top trends of 2024? Give it in a format of title and description\n",
       "      </div>\n",
       "      <div style=\"width: 90%; border-radius: 10px; background-color: #e3f6fc; padding: 10px; box-shadow: 2px 2px 2px #F7f7f7; margin-bottom: 10px; margin-left: 40px; font-size: 14px\">\n",
       "        <img style=\"float: left; width:40px; margin: -10px 5px 0px -10px\" src=\"https://github.com/databricks-demos/dbdemos-resources/blob/main/images/product/chatbot-rag/robot.png?raw=true\"/>\n",
       "        2024 Tech Trends:<br/><br/>Title: Generative AI as Growth Catalyst<br/>Description: Generative AI is becoming a significant growth catalyst for businesses, enabling them to create new products, services, and experiences by generating novel and realistic content. This technology is expected to revolutionize various industries, including entertainment, marketing, and design, by automating content creation and personalization.<br/><br/>Title: Spatial Computing and the Industrial Metaverse<br/>Description: Spatial computing is transforming the way businesses operate by enabling immersive 3D interaction in industrial applications. The industrial metaverse, powered by digital twins, spatial simulation, and augmented work instructions, is making factories and businesses safer and more efficient, paving the way for a new era of industrial innovation.<br/><br/>Title: Empowering the Engineering Experience<br/>Description: The business of technology is evolving, with a growing focus on empowering the engineering experience. From DevOps to DevEx, organizations are investing in tools and processes that streamline development, testing, and deployment, enabling engineers to focus on innovation and<br/><br/><br/><strong>Sources:</strong><br/> <ul><li><a href=\"dbfs:/Volumes/onlytrends/onlytrends_db/volume_reports/DI_Tech-trends-2024.pdf\">dbfs:/Volumes/onlytrends/onlytrends_db/volume_reports/DI_Tech-trends-2024.pdf</a></li>\n",
       "<li><a href=\"dbfs:/Volumes/onlytrends/onlytrends_db/volume_reports/DI_Tech-trends-2024.pdf\">dbfs:/Volumes/onlytrends/onlytrends_db/volume_reports/DI_Tech-trends-2024.pdf</a></li>\n",
       "<li><a href=\"dbfs:/Volumes/onlytrends/onlytrends_db/volume_reports/DI_Tech-trends-2024.pdf\">dbfs:/Volumes/onlytrends/onlytrends_db/volume_reports/DI_Tech-trends-2024.pdf</a></li>\n",
       "<li><a href=\"dbfs:/Volumes/onlytrends/onlytrends_db/volume_reports/DI_Tech-trends-2024.pdf\">dbfs:/Volumes/onlytrends/onlytrends_db/volume_reports/DI_Tech-trends-2024.pdf</a></li></ul>\n",
       "      </div>"
      ]
     },
     "metadata": {},
     "output_type": "display_data"
    }
   ],
   "source": [
    "dialog = {\n",
    "    \"messages\": [\n",
    "        {\"role\": \"user\", \"content\": \"What are some top trends of 2024? Give it in a format of title and description\"}, \n",
    "        # {\"role\": \"assistant\", \"content\": \"Artificial intelligence and machine learning\"}, \n",
    "        # {\"role\": \"user\", \"content\": \"Should I invest in NVIDIA then?\"}\n",
    "    ]\n",
    "}\n",
    "print(f'Testing with relevant history and question...')\n",
    "response = full_chain.invoke(dialog)\n",
    "display_chat(dialog[\"messages\"], response)"
   ]
  },
  {
   "cell_type": "code",
   "execution_count": 0,
   "metadata": {
    "application/vnd.databricks.v1+cell": {
     "cellMetadata": {},
     "inputWidgets": {},
     "nuid": "720098cb-7705-4427-a327-e0a640ed194e",
     "showTitle": false,
     "title": ""
    }
   },
   "outputs": [],
   "source": [
    "import requests\n",
    "import json\n",
    "payload = json.dumps(response)\n",
    "headers = {\n",
    "  'Content-Type': 'application/json'\n",
    "}\n",
    "\n",
    "response = requests.request(\"PUT\", API_URL, headers=headers, data=payload)\n",
    "\n",
    "print(response.text)"
   ]
  }
 ],
 "metadata": {
  "application/vnd.databricks.v1+notebook": {
   "dashboards": [],
   "language": "python",
   "notebookMetadata": {
    "mostRecentlyExecutedCommandWithImplicitDF": {
     "commandId": 1461878356524077,
     "dataframes": [
      "_sqldf"
     ]
    },
    "pythonIndentUnit": 4
   },
   "notebookName": "main",
   "widgets": {}
  }
 },
 "nbformat": 4,
 "nbformat_minor": 0
}
